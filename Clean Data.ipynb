{
 "cells": [
  {
   "cell_type": "markdown",
   "metadata": {},
   "source": [
    "### Import Libraries"
   ]
  },
  {
   "cell_type": "code",
   "execution_count": 222,
   "metadata": {},
   "outputs": [],
   "source": [
    "import pandas as pd\n",
    "import numpy as np\n",
    "\n",
    "import seaborn as sns\n",
    "import matplotlib.pyplot as plt\n",
    "import seaborn as sns\n",
    "sns.set_style('darkgrid')\n",
    "%matplotlib inline\n",
    "plt.rcParams['figure.figsize'] = 15,6"
   ]
  },
  {
   "cell_type": "markdown",
   "metadata": {},
   "source": [
    "### Functions"
   ]
  },
  {
   "cell_type": "code",
   "execution_count": 223,
   "metadata": {},
   "outputs": [],
   "source": [
    "#function to get nigeria data from worldbank data then transpose\n",
    "def WB_Transpose(table, col, col_content):\n",
    "    table = pd.DataFrame(table[table[col] == col_content])\n",
    "    table = pd.DataFrame(table.transpose())\n",
    "    return table\n",
    "\n",
    "#function to switch index\n",
    "def switch_index(table, col):\n",
    "    table.index.name= col\n",
    "    table[col]=table.index\n",
    "    table = table.reset_index(drop=True)\n",
    "    return table\n",
    "\n",
    "#function to treat worldbank time series data\n",
    "def WB_Treat(table,table2):\n",
    "    table = WB_Transpose(table, 'Country Name', 'Nigeria')\n",
    "    table = switch_index(table, 'Year')\n",
    "    table = pd.DataFrame(table[4:])\n",
    "    table.columns = [table2, 'Year']\n",
    "    table = table.reset_index(drop=True)\n",
    "    return table\n",
    "\n",
    "#Function plots a graphical correlation matrix for each pair of columns in the dataframe.\n",
    "def plot_corr(df, size):\n",
    "    \"\"\"\n",
    "    Function plots a graphical correlation matrix for each pair of columns in the dataframe.\n",
    "\n",
    "    Input:\n",
    "        df: pandas DataFrame\n",
    "        size: vertical and horizontal size of the plot\n",
    "\n",
    "    Displays:\n",
    "        matrix of correlation between columns.  Blue-cyan-yellow-red-darkred => less to more correlated\n",
    "                                                0 ------------------>  1\n",
    "                                                Expect a darkred line running from top left to bottom right\n",
    "    \"\"\"\n",
    "\n",
    "    corr = df.corr()    # data frame correlation function\n",
    "    fig, ax = plt.subplots(figsize=(size, size))\n",
    "    ax.matshow(corr, cmap='summer')   # color code the rectangles by correlation value\n",
    "    plt.xticks(range(len(corr.columns)), corr.columns)  # draw x tick marks\n",
    "    plt.yticks(range(len(corr.columns)), corr.columns)  # draw y tick marks\n"
   ]
  },
  {
   "cell_type": "markdown",
   "metadata": {},
   "source": [
    "### Read All CSV Files"
   ]
  },
  {
   "cell_type": "code",
   "execution_count": 224,
   "metadata": {},
   "outputs": [],
   "source": [
    "Gdp = pd.read_csv('Gdp.csv', skiprows=4)\n",
    "GdpGrowth = pd.read_csv('GdpGrowth.csv', skiprows=4)\n",
    "CapitalExpenditure = pd.read_csv('CapitalExpenditure.csv', skiprows=1)\n",
    "EconomicFreedom = pd.read_csv('EconomicFreedom.csv', skiprows=4)\n",
    "Export = pd.read_csv('Export.csv', skiprows=4)\n",
    "Import = pd.read_csv('Import.csv', skiprows=4)\n",
    "Fdi = pd.read_csv('Fdi.csv', skiprows=4)\n",
    "Forex = pd.read_csv('Forex.csv', skiprows=4)\n",
    "Inflation = pd.read_csv('Inflation.csv', skiprows=4)\n",
    "InterestRate = pd.read_csv('InterestRate.csv', skiprows=4)\n",
    "Population = pd.read_csv('Population.csv', skiprows=4)\n",
    "PrimarySchoolPupils = pd.read_csv('PrimarySchoolPupils.csv', skiprows=4)\n",
    "\n",
    "#CapitalExpenditure[:11]"
   ]
  },
  {
   "cell_type": "markdown",
   "metadata": {},
   "source": [
    "### Clean WorldBank Data"
   ]
  },
  {
   "cell_type": "code",
   "execution_count": 225,
   "metadata": {},
   "outputs": [],
   "source": [
    "Gdp = WB_Treat(Gdp,'Gdp')\n",
    "GdpGrowth = WB_Treat(GdpGrowth,'GdpGrowth')\n",
    "Export = WB_Treat(Export,'Export')\n",
    "Import = WB_Treat(Import,'Import')\n",
    "Fdi = WB_Treat(Fdi,'Fdi')\n",
    "Forex = WB_Treat(Forex,'Forex')\n",
    "Inflation = WB_Treat(Inflation,'Inflation')\n",
    "InterestRate = WB_Treat(InterestRate,'InterestRate')\n",
    "Population = WB_Treat(Population,'Population')\n",
    "PrimarySchoolPupils = WB_Treat(PrimarySchoolPupils,'PrimarySchoolPupils')"
   ]
  },
  {
   "cell_type": "markdown",
   "metadata": {},
   "source": [
    "### Clean Economic Freedom index data"
   ]
  },
  {
   "cell_type": "code",
   "execution_count": 226,
   "metadata": {},
   "outputs": [
    {
     "data": {
      "text/plain": [
       "22"
      ]
     },
     "execution_count": 226,
     "metadata": {},
     "output_type": "execute_result"
    }
   ],
   "source": [
    "EconomicFreedom = EconomicFreedom.drop(columns=['Unnamed: 0', 'ISO_Code', 'Quartile', 'Government Consumption',\n",
    "       '1A data', 'Transfers and subsidies', '1B data',\n",
    "       'Government enterprises and investment', '1C data',\n",
    "       'Top marginal income tax rate', '1Di data',\n",
    "       'Top marginal income and payroll tax rate', '1Dii data',\n",
    "       'Top marginal tax rate', 'Size of Government', 'Judicial independence',\n",
    "       'Impartial courts', 'Protection of property rights',\n",
    "       ' Military interference in rule of law and politics',\n",
    "       'Integrity of the legal system', 'Legal enforcement of contracts',\n",
    "       'Regulatory restrictions on the sale of real property',\n",
    "       'Reliability of police', 'Business costs of crime', 'Gender Adjustment',\n",
    "       'Legal System & Property Rights', 'Money growth', '3A data',\n",
    "       'Standard deviation of inflation', '3B data',\n",
    "       'Inflation: Most recent year', '3C data',\n",
    "       'Freedom to own foreign currency bank accounts', 'Sound Money',\n",
    "       ' Revenue from trade taxes (% of trade sector)', '4Ai data',\n",
    "       'Mean tariff rate', '4Aii data', 'Standard deviation of tariff rates',\n",
    "       '4Aiii data', 'Tariffs', ' Non-tariff trade barriers',\n",
    "       'Compliance costs of importing and exporting',\n",
    "       ' Regulatory trade barriers', 'Black market exchange rates',\n",
    "       'Foreign ownership/investment restrictions', 'Capital controls',\n",
    "       'Freedom of foreigners to visit',\n",
    "       'Controls of the movement of capital and people',\n",
    "       'Freedom to trade internationally', 'Ownership of banks',\n",
    "       'Private sector credit',\n",
    "       'Interest rate controls/negative real interest rates)',\n",
    "       'Credit market regulations', 'Hiring regulations and minimum wage',\n",
    "       'Hiring and firing regulations', 'Centralized collective bargaining',\n",
    "       'Hours Regulations', 'Mandated cost of worker dismissal',\n",
    "       'Conscription', 'Labor market regulations',\n",
    "       'Administrative requirements', 'Bureaucracy costs',\n",
    "       'Starting a business', 'Extra payments/bribes/favoritism',\n",
    "       'Licensing restrictions', 'Tax compliance', 'Business regulations',\n",
    "       'Regulation'])\n",
    "\n",
    "EconomicFreedom = pd.DataFrame(EconomicFreedom[EconomicFreedom['Countries'] == 'Nigeria'])\n",
    "EconomicFreedom = EconomicFreedom.drop(columns=['Countries'])\n",
    "EconomicFreedom = EconomicFreedom.reset_index(drop=True)\n",
    "len(EconomicFreedom)"
   ]
  },
  {
   "cell_type": "code",
   "execution_count": 227,
   "metadata": {},
   "outputs": [
    {
     "data": {
      "text/plain": [
       "47"
      ]
     },
     "execution_count": 227,
     "metadata": {},
     "output_type": "execute_result"
    }
   ],
   "source": [
    "CapitalExpenditure = WB_Transpose(CapitalExpenditure, 'Sources ', 'Capital Expenditure 2')\n",
    "CapitalExpenditure = switch_index(CapitalExpenditure, 'Year')\n",
    "CapitalExpenditure = pd.DataFrame(CapitalExpenditure[1:])\n",
    "CapitalExpenditure.columns = ['CapitalExpenditure', 'Year']\n",
    "\n",
    "CapitalExpenditure = CapitalExpenditure.reset_index(drop=True)\n",
    "len(CapitalExpenditure)"
   ]
  },
  {
   "cell_type": "markdown",
   "metadata": {},
   "source": [
    "### Merge Data"
   ]
  },
  {
   "cell_type": "code",
   "execution_count": 228,
   "metadata": {},
   "outputs": [
    {
     "data": {
      "text/html": [
       "<div>\n",
       "<style scoped>\n",
       "    .dataframe tbody tr th:only-of-type {\n",
       "        vertical-align: middle;\n",
       "    }\n",
       "\n",
       "    .dataframe tbody tr th {\n",
       "        vertical-align: top;\n",
       "    }\n",
       "\n",
       "    .dataframe thead th {\n",
       "        text-align: right;\n",
       "    }\n",
       "</style>\n",
       "<table border=\"1\" class=\"dataframe\">\n",
       "  <thead>\n",
       "    <tr style=\"text-align: right;\">\n",
       "      <th></th>\n",
       "      <th>Gdp</th>\n",
       "      <th>Year</th>\n",
       "      <th>GdpGrowth</th>\n",
       "      <th>Fdi</th>\n",
       "      <th>Forex</th>\n",
       "      <th>Inflation</th>\n",
       "      <th>InterestRate</th>\n",
       "    </tr>\n",
       "  </thead>\n",
       "  <tbody>\n",
       "    <tr>\n",
       "      <th>0</th>\n",
       "      <td>4.19609e+09</td>\n",
       "      <td>1960</td>\n",
       "      <td>NaN</td>\n",
       "      <td>NaN</td>\n",
       "      <td>0.714286</td>\n",
       "      <td>5.44433</td>\n",
       "      <td>NaN</td>\n",
       "    </tr>\n",
       "    <tr>\n",
       "      <th>1</th>\n",
       "      <td>4.4672e+09</td>\n",
       "      <td>1961</td>\n",
       "      <td>0.191795</td>\n",
       "      <td>NaN</td>\n",
       "      <td>0.714286</td>\n",
       "      <td>6.27915</td>\n",
       "      <td>NaN</td>\n",
       "    </tr>\n",
       "    <tr>\n",
       "      <th>2</th>\n",
       "      <td>4.9093e+09</td>\n",
       "      <td>1962</td>\n",
       "      <td>4.10299</td>\n",
       "      <td>NaN</td>\n",
       "      <td>0.714286</td>\n",
       "      <td>5.26563</td>\n",
       "      <td>NaN</td>\n",
       "    </tr>\n",
       "    <tr>\n",
       "      <th>3</th>\n",
       "      <td>5.16549e+09</td>\n",
       "      <td>1963</td>\n",
       "      <td>8.57862</td>\n",
       "      <td>NaN</td>\n",
       "      <td>0.714286</td>\n",
       "      <td>-2.69466</td>\n",
       "      <td>NaN</td>\n",
       "    </tr>\n",
       "    <tr>\n",
       "      <th>4</th>\n",
       "      <td>5.55282e+09</td>\n",
       "      <td>1964</td>\n",
       "      <td>4.95049</td>\n",
       "      <td>NaN</td>\n",
       "      <td>0.714286</td>\n",
       "      <td>0.856793</td>\n",
       "      <td>NaN</td>\n",
       "    </tr>\n",
       "  </tbody>\n",
       "</table>\n",
       "</div>"
      ],
      "text/plain": [
       "           Gdp  Year GdpGrowth  Fdi     Forex Inflation InterestRate\n",
       "0  4.19609e+09  1960       NaN  NaN  0.714286   5.44433          NaN\n",
       "1   4.4672e+09  1961  0.191795  NaN  0.714286   6.27915          NaN\n",
       "2   4.9093e+09  1962   4.10299  NaN  0.714286   5.26563          NaN\n",
       "3  5.16549e+09  1963   8.57862  NaN  0.714286  -2.69466          NaN\n",
       "4  5.55282e+09  1964   4.95049  NaN  0.714286  0.856793          NaN"
      ]
     },
     "execution_count": 228,
     "metadata": {},
     "output_type": "execute_result"
    }
   ],
   "source": [
    "GdpPredictor = pd.merge(left=Gdp,right=GdpGrowth, on='Year',left_index=True,right_index=True)\n",
    "\n",
    "#GdpPredictor = pd.merge(left=GdpPredictor,right=EconomicFreedom, on='Year',left_index=True,right_index=True)\n",
    "#GdpPredictor = pd.merge(left=GdpPredictor,right=Export, on='Year',left_index=True,right_index=True)\n",
    "#GdpPredictor = pd.merge(left=GdpPredictor,right=Import, on='Year',left_index=True,right_index=True)\n",
    "GdpPredictor = pd.merge(left=GdpPredictor,right=Fdi, on='Year',left_index=True,right_index=True)\n",
    "GdpPredictor = pd.merge(left=GdpPredictor,right=Forex, on='Year',left_index=True,right_index=True)\n",
    "GdpPredictor = pd.merge(left=GdpPredictor,right=Inflation, on='Year',left_index=True,right_index=True)\n",
    "GdpPredictor = pd.merge(left=GdpPredictor,right=InterestRate, on='Year',left_index=True,right_index=True)\n",
    "#GdpPredictor = pd.merge(left=GdpPredictor,right=Population, on='Year',left_index=True,right_index=True)\n",
    "#GdpPredictor = pd.merge(left=GdpPredictor,right=PrimarySchoolPupils, on='Year',left_index=True,right_index=True)\n",
    "#GdpPredictor = pd.merge(left=GdpPredictor,right=CapitalExpenditure, on='Year',left_index=True,right_index=True)\n",
    "GdpPredictor.head()"
   ]
  },
  {
   "cell_type": "code",
   "execution_count": 229,
   "metadata": {},
   "outputs": [
    {
     "name": "stdout",
     "output_type": "stream",
     "text": [
      "<class 'pandas.core.frame.DataFrame'>\n",
      "RangeIndex: 59 entries, 0 to 58\n",
      "Data columns (total 7 columns):\n",
      "Gdp             57 non-null object\n",
      "Year            59 non-null object\n",
      "GdpGrowth       56 non-null object\n",
      "Fdi             40 non-null object\n",
      "Forex           58 non-null object\n",
      "Inflation       57 non-null object\n",
      "InterestRate    46 non-null object\n",
      "dtypes: object(7)\n",
      "memory usage: 3.3+ KB\n"
     ]
    }
   ],
   "source": [
    "GdpPredictor.info()"
   ]
  },
  {
   "cell_type": "markdown",
   "metadata": {},
   "source": [
    "### Remove all NaN in Dataframe"
   ]
  },
  {
   "cell_type": "code",
   "execution_count": 230,
   "metadata": {},
   "outputs": [
    {
     "data": {
      "text/html": [
       "<div>\n",
       "<style scoped>\n",
       "    .dataframe tbody tr th:only-of-type {\n",
       "        vertical-align: middle;\n",
       "    }\n",
       "\n",
       "    .dataframe tbody tr th {\n",
       "        vertical-align: top;\n",
       "    }\n",
       "\n",
       "    .dataframe thead th {\n",
       "        text-align: right;\n",
       "    }\n",
       "</style>\n",
       "<table border=\"1\" class=\"dataframe\">\n",
       "  <thead>\n",
       "    <tr style=\"text-align: right;\">\n",
       "      <th></th>\n",
       "      <th>Gdp</th>\n",
       "      <th>Year</th>\n",
       "      <th>GdpGrowth</th>\n",
       "      <th>Fdi</th>\n",
       "      <th>Forex</th>\n",
       "      <th>Inflation</th>\n",
       "      <th>InterestRate</th>\n",
       "    </tr>\n",
       "  </thead>\n",
       "  <tbody>\n",
       "    <tr>\n",
       "      <th>0</th>\n",
       "      <td>3.60354e+10</td>\n",
       "      <td>1977</td>\n",
       "      <td>6.02412</td>\n",
       "      <td>-4.40514e+08</td>\n",
       "      <td>0.644701</td>\n",
       "      <td>15.0878</td>\n",
       "      <td>-4.2576</td>\n",
       "    </tr>\n",
       "    <tr>\n",
       "      <th>1</th>\n",
       "      <td>3.65279e+10</td>\n",
       "      <td>1978</td>\n",
       "      <td>-5.76416</td>\n",
       "      <td>-2.10933e+08</td>\n",
       "      <td>0.635272</td>\n",
       "      <td>21.7092</td>\n",
       "      <td>-6.28957</td>\n",
       "    </tr>\n",
       "    <tr>\n",
       "      <th>2</th>\n",
       "      <td>6.42018e+10</td>\n",
       "      <td>1980</td>\n",
       "      <td>4.20483</td>\n",
       "      <td>7.3887e+08</td>\n",
       "      <td>0.546781</td>\n",
       "      <td>9.97226</td>\n",
       "      <td>-3.54742</td>\n",
       "    </tr>\n",
       "    <tr>\n",
       "      <th>3</th>\n",
       "      <td>6.10765e+10</td>\n",
       "      <td>1981</td>\n",
       "      <td>-13.1279</td>\n",
       "      <td>-5.42327e+08</td>\n",
       "      <td>0.617708</td>\n",
       "      <td>20.8128</td>\n",
       "      <td>-8.05542</td>\n",
       "    </tr>\n",
       "    <tr>\n",
       "      <th>4</th>\n",
       "      <td>5.13975e+10</td>\n",
       "      <td>1982</td>\n",
       "      <td>-1.05319</td>\n",
       "      <td>-4.30611e+08</td>\n",
       "      <td>0.673461</td>\n",
       "      <td>7.69775</td>\n",
       "      <td>4.49126</td>\n",
       "    </tr>\n",
       "  </tbody>\n",
       "</table>\n",
       "</div>"
      ],
      "text/plain": [
       "           Gdp  Year GdpGrowth          Fdi     Forex Inflation InterestRate\n",
       "0  3.60354e+10  1977   6.02412 -4.40514e+08  0.644701   15.0878      -4.2576\n",
       "1  3.65279e+10  1978  -5.76416 -2.10933e+08  0.635272   21.7092     -6.28957\n",
       "2  6.42018e+10  1980   4.20483   7.3887e+08  0.546781   9.97226     -3.54742\n",
       "3  6.10765e+10  1981  -13.1279 -5.42327e+08  0.617708   20.8128     -8.05542\n",
       "4  5.13975e+10  1982  -1.05319 -4.30611e+08  0.673461   7.69775      4.49126"
      ]
     },
     "execution_count": 230,
     "metadata": {},
     "output_type": "execute_result"
    }
   ],
   "source": [
    "GdpPredictor = GdpPredictor.dropna(how='any')\n",
    "GdpPredictor = GdpPredictor.reset_index(drop=True)\n",
    "GdpPredictor.head()                              "
   ]
  },
  {
   "cell_type": "markdown",
   "metadata": {},
   "source": [
    "### Convert to correct datatypes"
   ]
  },
  {
   "cell_type": "code",
   "execution_count": 231,
   "metadata": {},
   "outputs": [
    {
     "name": "stdout",
     "output_type": "stream",
     "text": [
      "<class 'pandas.core.frame.DataFrame'>\n",
      "RangeIndex: 39 entries, 0 to 38\n",
      "Data columns (total 7 columns):\n",
      "Gdp             39 non-null object\n",
      "Year            39 non-null object\n",
      "GdpGrowth       39 non-null object\n",
      "Fdi             39 non-null object\n",
      "Forex           39 non-null object\n",
      "Inflation       39 non-null object\n",
      "InterestRate    39 non-null object\n",
      "dtypes: object(7)\n",
      "memory usage: 2.2+ KB\n"
     ]
    }
   ],
   "source": [
    "GdpPredictor.info()"
   ]
  },
  {
   "cell_type": "code",
   "execution_count": 232,
   "metadata": {},
   "outputs": [
    {
     "name": "stdout",
     "output_type": "stream",
     "text": [
      "<class 'pandas.core.frame.DataFrame'>\n",
      "RangeIndex: 39 entries, 0 to 38\n",
      "Data columns (total 7 columns):\n",
      "Gdp             39 non-null float64\n",
      "Year            39 non-null int64\n",
      "GdpGrowth       39 non-null float64\n",
      "Fdi             39 non-null float64\n",
      "Forex           39 non-null float64\n",
      "Inflation       39 non-null float64\n",
      "InterestRate    39 non-null float64\n",
      "dtypes: float64(6), int64(1)\n",
      "memory usage: 2.2 KB\n"
     ]
    }
   ],
   "source": [
    "GdpPredictor.Gdp = GdpPredictor['Gdp'].astype(float)\n",
    "GdpPredictor.Year = GdpPredictor['Year'].astype(int)\n",
    "GdpPredictor.GdpGrowth = GdpPredictor['GdpGrowth'].astype(float)\n",
    "#GdpPredictor.Export = GdpPredictor['Export'].astype(float)\n",
    "#GdpPredictor.Import = GdpPredictor['Import'].astype(float)\n",
    "GdpPredictor.Fdi = GdpPredictor['Fdi'].astype(float)\n",
    "GdpPredictor.Forex = GdpPredictor['Forex'].astype(float)\n",
    "GdpPredictor.Inflation = GdpPredictor['Inflation'].astype(float)\n",
    "GdpPredictor.InterestRate = GdpPredictor['InterestRate'].astype(float)\n",
    "#GdpPredictor.Population = GdpPredictor['Population'].astype(float)\n",
    "#GdpPredictor.CapitalExpenditure = GdpPredictor['CapitalExpenditure'].astype(float)\n",
    "GdpPredictor.info()"
   ]
  },
  {
   "cell_type": "markdown",
   "metadata": {},
   "source": [
    "### Change export and import as a percentage of gdp to actual"
   ]
  },
  {
   "cell_type": "code",
   "execution_count": 233,
   "metadata": {},
   "outputs": [],
   "source": [
    "#GdpPredictor['Exp'] = GdpPredictor.Gdp * (GdpPredictor.Export/100)\n",
    "#GdpPredictor['Imp'] = GdpPredictor.Gdp * (GdpPredictor.Import/100)\n",
    "#GdpPredictor = GdpPredictor.drop(columns = ['Export','Import', 'Year'])\n",
    "#GdpPredictor.columns = ['Gdp', 'GdpGrowth', 'Fdi', 'Forex','Inflation','InterestRate','Population','CapitalExpenditure','Export','Import']\n",
    "#GdpPredictor.head()   \n",
    "\n",
    "GdpPredictor = GdpPredictor.drop(columns = ['Year'])\n"
   ]
  },
  {
   "cell_type": "markdown",
   "metadata": {},
   "source": [
    "### Check Case distribution\n",
    "\n",
    "Rare events are hard to predict\n"
   ]
  },
  {
   "cell_type": "code",
   "execution_count": 234,
   "metadata": {},
   "outputs": [
    {
     "name": "stdout",
     "output_type": "stream",
     "text": [
      "Number of Increase cases:  29 (74.36%)\n",
      "Number of Decrease cases: 10 (25.64%)\n"
     ]
    }
   ],
   "source": [
    "num_obs = len(GdpPredictor)\n",
    "num_increase = len(GdpPredictor.loc[GdpPredictor['GdpGrowth'] > 0])\n",
    "num_decrease = len(GdpPredictor.loc[GdpPredictor['GdpGrowth'] < 0])\n",
    "print(\"Number of Increase cases:  {0} ({1:2.2f}%)\".format(num_increase, (num_increase/num_obs) * 100))\n",
    "print(\"Number of Decrease cases: {0} ({1:2.2f}%)\".format(num_decrease, (num_decrease/num_obs) * 100))"
   ]
  },
  {
   "cell_type": "code",
   "execution_count": 235,
   "metadata": {},
   "outputs": [
    {
     "data": {
      "image/png": "[encoded data removed]",
      "text/plain": [
       "<matplotlib.figure.Figure at 0x1a1b12f8d0>"
      ]
     },
     "metadata": {},
     "output_type": "display_data"
    }
   ],
   "source": [
    "plot_corr(GdpPredictor, 15)"
   ]
  },
  {
   "cell_type": "code",
   "execution_count": 236,
   "metadata": {},
   "outputs": [
    {
     "data": {
      "text/html": [
       "<div>\n",
       "<style scoped>\n",
       "    .dataframe tbody tr th:only-of-type {\n",
       "        vertical-align: middle;\n",
       "    }\n",
       "\n",
       "    .dataframe tbody tr th {\n",
       "        vertical-align: top;\n",
       "    }\n",
       "\n",
       "    .dataframe thead th {\n",
       "        text-align: right;\n",
       "    }\n",
       "</style>\n",
       "<table border=\"1\" class=\"dataframe\">\n",
       "  <thead>\n",
       "    <tr style=\"text-align: right;\">\n",
       "      <th></th>\n",
       "      <th>Gdp</th>\n",
       "      <th>GdpGrowth</th>\n",
       "      <th>Fdi</th>\n",
       "      <th>Forex</th>\n",
       "      <th>Inflation</th>\n",
       "      <th>InterestRate</th>\n",
       "    </tr>\n",
       "  </thead>\n",
       "  <tbody>\n",
       "    <tr>\n",
       "      <th>Gdp</th>\n",
       "      <td>1.000000</td>\n",
       "      <td>0.139918</td>\n",
       "      <td>-0.630894</td>\n",
       "      <td>0.780461</td>\n",
       "      <td>-0.317952</td>\n",
       "      <td>0.192215</td>\n",
       "    </tr>\n",
       "    <tr>\n",
       "      <th>GdpGrowth</th>\n",
       "      <td>0.139918</td>\n",
       "      <td>1.000000</td>\n",
       "      <td>-0.271447</td>\n",
       "      <td>0.351522</td>\n",
       "      <td>-0.089131</td>\n",
       "      <td>0.344456</td>\n",
       "    </tr>\n",
       "    <tr>\n",
       "      <th>Fdi</th>\n",
       "      <td>-0.630894</td>\n",
       "      <td>-0.271447</td>\n",
       "      <td>1.000000</td>\n",
       "      <td>-0.718050</td>\n",
       "      <td>0.224168</td>\n",
       "      <td>-0.172075</td>\n",
       "    </tr>\n",
       "    <tr>\n",
       "      <th>Forex</th>\n",
       "      <td>0.780461</td>\n",
       "      <td>0.351522</td>\n",
       "      <td>-0.718050</td>\n",
       "      <td>1.000000</td>\n",
       "      <td>-0.350014</td>\n",
       "      <td>0.296015</td>\n",
       "    </tr>\n",
       "    <tr>\n",
       "      <th>Inflation</th>\n",
       "      <td>-0.317952</td>\n",
       "      <td>-0.089131</td>\n",
       "      <td>0.224168</td>\n",
       "      <td>-0.350014</td>\n",
       "      <td>1.000000</td>\n",
       "      <td>-0.477434</td>\n",
       "    </tr>\n",
       "    <tr>\n",
       "      <th>InterestRate</th>\n",
       "      <td>0.192215</td>\n",
       "      <td>0.344456</td>\n",
       "      <td>-0.172075</td>\n",
       "      <td>0.296015</td>\n",
       "      <td>-0.477434</td>\n",
       "      <td>1.000000</td>\n",
       "    </tr>\n",
       "  </tbody>\n",
       "</table>\n",
       "</div>"
      ],
      "text/plain": [
       "                   Gdp  GdpGrowth       Fdi     Forex  Inflation  InterestRate\n",
       "Gdp           1.000000   0.139918 -0.630894  0.780461  -0.317952      0.192215\n",
       "GdpGrowth     0.139918   1.000000 -0.271447  0.351522  -0.089131      0.344456\n",
       "Fdi          -0.630894  -0.271447  1.000000 -0.718050   0.224168     -0.172075\n",
       "Forex         0.780461   0.351522 -0.718050  1.000000  -0.350014      0.296015\n",
       "Inflation    -0.317952  -0.089131  0.224168 -0.350014   1.000000     -0.477434\n",
       "InterestRate  0.192215   0.344456 -0.172075  0.296015  -0.477434      1.000000"
      ]
     },
     "execution_count": 236,
     "metadata": {},
     "output_type": "execute_result"
    }
   ],
   "source": [
    "GdpPredictor.corr()"
   ]
  },
  {
   "cell_type": "markdown",
   "metadata": {},
   "source": [
    "### Visualise Data"
   ]
  },
  {
   "cell_type": "code",
   "execution_count": 237,
   "metadata": {},
   "outputs": [
    {
     "data": {
      "text/plain": [
       "<seaborn.axisgrid.PairGrid at 0x1a19dfb0f0>"
      ]
     },
     "execution_count": 237,
     "metadata": {},
     "output_type": "execute_result"
    },
    {
     "data": {
      "image/png": "[encoded data removed]",
      "text/plain": [
       "<matplotlib.figure.Figure at 0x1a19dfb1d0>"
      ]
     },
     "metadata": {},
     "output_type": "display_data"
    }
   ],
   "source": [
    "sns.pairplot(GdpPredictor, x_vars=['Gdp', 'Fdi', 'Forex', 'Inflation', 'InterestRate'], y_vars='GdpGrowth', size=7, aspect=0.7)\n"
   ]
  },
  {
   "cell_type": "markdown",
   "metadata": {},
   "source": [
    "##### Spliting the data\n",
    "\n",
    "75% for training & 25% for testing; because of the small amount of data\n"
   ]
  },
  {
   "cell_type": "code",
   "execution_count": 238,
   "metadata": {},
   "outputs": [],
   "source": [
    "from sklearn.cross_validation import train_test_split\n",
    "\n",
    "feature_col_names = ['Gdp', 'Fdi', 'Forex', 'Inflation', 'InterestRate']\n",
    "predicted_class_names = ['GdpGrowth']\n",
    "\n",
    "X = GdpPredictor[feature_col_names].values     # predictor feature columns (5 X m)\n",
    "y = GdpPredictor[predicted_class_names].values # predicted class column (1 X m)\n",
    "split_test_size = 0.25\n",
    "\n",
    "X_train, X_test, y_train, y_test = train_test_split(X, y, test_size=split_test_size, random_state=42) \n",
    "                            # test_size = 0.45 is 45%, 42 is the answer to everything"
   ]
  },
  {
   "cell_type": "code",
   "execution_count": 239,
   "metadata": {},
   "outputs": [
    {
     "name": "stdout",
     "output_type": "stream",
     "text": [
      "74.36% in training set\n",
      "25.64% in test set\n"
     ]
    }
   ],
   "source": [
    "print(\"{0:0.2f}% in training set\".format((len(X_train)/len(GdpPredictor.index)) * 100))\n",
    "print(\"{0:0.2f}% in test set\".format((len(X_test)/len(GdpPredictor.index)) * 100))"
   ]
  },
  {
   "cell_type": "markdown",
   "metadata": {},
   "source": [
    "### Training Initial Algorithm - Lasso Regression"
   ]
  },
  {
   "cell_type": "code",
   "execution_count": 240,
   "metadata": {},
   "outputs": [
    {
     "data": {
      "text/plain": [
       "Lasso(alpha=1.0, copy_X=True, fit_intercept=True, max_iter=1000,\n",
       "   normalize=False, positive=False, precompute=False, random_state=None,\n",
       "   selection='cyclic', tol=0.0001, warm_start=False)"
      ]
     },
     "execution_count": 240,
     "metadata": {},
     "output_type": "execute_result"
    }
   ],
   "source": [
    "from sklearn.linear_model import Lasso\n",
    "\n",
    "# create lasso regression model object and train it with the data\n",
    "lasso_model = Lasso()\n",
    "\n",
    "lasso_model.fit(X_train, y_train)"
   ]
  },
  {
   "cell_type": "markdown",
   "metadata": {},
   "source": [
    "#### Check R-square on training data"
   ]
  },
  {
   "cell_type": "code",
   "execution_count": 241,
   "metadata": {},
   "outputs": [
    {
     "data": {
      "text/plain": [
       "0.20812505822271776"
      ]
     },
     "execution_count": 241,
     "metadata": {},
     "output_type": "execute_result"
    }
   ],
   "source": [
    "lasso_model.score(X_train, y_train)"
   ]
  },
  {
   "cell_type": "markdown",
   "metadata": {},
   "source": [
    "#### Coefficients when using Lasso"
   ]
  },
  {
   "cell_type": "code",
   "execution_count": 242,
   "metadata": {},
   "outputs": [
    {
     "name": "stdout",
     "output_type": "stream",
     "text": [
      "Fdi            -1.113969e-09\n",
      "Gdp            -8.141620e-12\n",
      "Forex           1.222889e-02\n",
      "Inflation       4.349918e-02\n",
      "InterestRate    9.641316e-02\n",
      "dtype: float64\n"
     ]
    }
   ],
   "source": [
    "predictors = ['Gdp', 'Fdi', 'Forex', 'Inflation', 'InterestRate']\n",
    "lasso_coef = pd.Series(lasso_model.coef_,predictors).sort_values()\n",
    "print(lasso_coef)"
   ]
  },
  {
   "cell_type": "code",
   "execution_count": 243,
   "metadata": {},
   "outputs": [
    {
     "data": {
      "text/plain": [
       "<matplotlib.axes._subplots.AxesSubplot at 0x1a19a9da58>"
      ]
     },
     "execution_count": 243,
     "metadata": {},
     "output_type": "execute_result"
    },
    {
     "data": {
      "image/png": "[encoded data removed]",
      "text/plain": [
       "<matplotlib.figure.Figure at 0x1a19c51ba8>"
      ]
     },
     "metadata": {},
     "output_type": "display_data"
    }
   ],
   "source": [
    "from pandas import Series\n",
    "%matplotlib inline\n",
    "\n",
    "lasso_coef.plot(kind='bar', title='Modal Coefficients')"
   ]
  },
  {
   "cell_type": "markdown",
   "metadata": {},
   "source": [
    "#### Make predictions on test data"
   ]
  },
  {
   "cell_type": "code",
   "execution_count": 244,
   "metadata": {},
   "outputs": [],
   "source": [
    "y_predict = lasso_model.predict(X_test)"
   ]
  },
  {
   "cell_type": "markdown",
   "metadata": {},
   "source": [
    "#### Compare predicted and actual values of GDPGrowth - Lasso"
   ]
  },
  {
   "cell_type": "code",
   "execution_count": 245,
   "metadata": {},
   "outputs": [
    {
     "name": "stdout",
     "output_type": "stream",
     "text": [
      "Populating the interactive namespace from numpy and matplotlib\n"
     ]
    },
    {
     "data": {
      "image/png": "[encoded data removed]",
      "text/plain": [
       "<matplotlib.figure.Figure at 0x1a1b1203c8>"
      ]
     },
     "metadata": {},
     "output_type": "display_data"
    }
   ],
   "source": [
    "%pylab inline\n",
    "pylab.rcParams['figure.figsize'] = (15, 6)\n",
    "\n",
    "plt.plot(y_predict, label='Predicted')\n",
    "plt.plot(y_test, label='Actual')\n",
    "plt.ylabel('GdpGrowth')\n",
    "\n",
    "plt.legend()\n",
    "plt.show()"
   ]
  },
  {
   "cell_type": "markdown",
   "metadata": {},
   "source": [
    "#### Check R-square value on test data"
   ]
  },
  {
   "cell_type": "code",
   "execution_count": 246,
   "metadata": {},
   "outputs": [
    {
     "data": {
      "text/plain": [
       "0.09658925501353066"
      ]
     },
     "execution_count": 246,
     "metadata": {},
     "output_type": "execute_result"
    }
   ],
   "source": [
    "r_square = lasso_model.score(X_test, y_test)\n",
    "r_square"
   ]
  },
  {
   "cell_type": "markdown",
   "metadata": {},
   "source": [
    "#### Is the root mean square error any better?"
   ]
  },
  {
   "cell_type": "code",
   "execution_count": 247,
   "metadata": {},
   "outputs": [
    {
     "data": {
      "text/plain": [
       "9.285002165888478"
      ]
     },
     "execution_count": 247,
     "metadata": {},
     "output_type": "execute_result"
    }
   ],
   "source": [
    "from sklearn.metrics import mean_squared_error\n",
    "lasso_model_mse = mean_squared_error(y_predict, y_test)\n",
    "math.sqrt(lasso_model_mse)"
   ]
  },
  {
   "cell_type": "markdown",
   "metadata": {},
   "source": [
    "### Training Initial Algorithm - multiple linear regression"
   ]
  },
  {
   "cell_type": "code",
   "execution_count": 248,
   "metadata": {},
   "outputs": [
    {
     "data": {
      "text/plain": [
       "LinearRegression(copy_X=True, fit_intercept=True, n_jobs=1, normalize=True)"
      ]
     },
     "execution_count": 248,
     "metadata": {},
     "output_type": "execute_result"
    }
   ],
   "source": [
    "from sklearn.linear_model import LinearRegression\n",
    "ML_model = LinearRegression(normalize=True)\n",
    "ML_model.fit(X_train, y_train)"
   ]
  },
  {
   "cell_type": "markdown",
   "metadata": {},
   "source": [
    "#### Check R-square on training data"
   ]
  },
  {
   "cell_type": "code",
   "execution_count": 249,
   "metadata": {},
   "outputs": [
    {
     "data": {
      "text/plain": [
       "0.20850746586553526"
      ]
     },
     "execution_count": 249,
     "metadata": {},
     "output_type": "execute_result"
    }
   ],
   "source": [
    "ML_model.score(X_train, y_train)"
   ]
  },
  {
   "cell_type": "markdown",
   "metadata": {},
   "source": [
    "#### Coefficients when using SVR"
   ]
  },
  {
   "cell_type": "code",
   "execution_count": 250,
   "metadata": {},
   "outputs": [
    {
     "data": {
      "text/plain": [
       "Fdi            -1.103625e-09\n",
       "Gdp            -8.104126e-12\n",
       "Forex           1.268538e-02\n",
       "Inflation       5.071821e-02\n",
       "InterestRate    1.031625e-01\n",
       "dtype: float64"
      ]
     },
     "execution_count": 250,
     "metadata": {},
     "output_type": "execute_result"
    }
   ],
   "source": [
    "ML_coef = Series(ML_model.coef_[0],predictors).sort_values()\n",
    "ML_coef"
   ]
  },
  {
   "cell_type": "markdown",
   "metadata": {},
   "source": [
    "### Building the optimal model using backward elimination"
   ]
  },
  {
   "cell_type": "code",
   "execution_count": 251,
   "metadata": {},
   "outputs": [
    {
     "data": {
      "text/html": [
       "<div>\n",
       "<style scoped>\n",
       "    .dataframe tbody tr th:only-of-type {\n",
       "        vertical-align: middle;\n",
       "    }\n",
       "\n",
       "    .dataframe tbody tr th {\n",
       "        vertical-align: top;\n",
       "    }\n",
       "\n",
       "    .dataframe thead th {\n",
       "        text-align: right;\n",
       "    }\n",
       "</style>\n",
       "<table border=\"1\" class=\"dataframe\">\n",
       "  <thead>\n",
       "    <tr style=\"text-align: right;\">\n",
       "      <th></th>\n",
       "      <th>0</th>\n",
       "      <th>1</th>\n",
       "      <th>2</th>\n",
       "      <th>3</th>\n",
       "      <th>4</th>\n",
       "      <th>5</th>\n",
       "    </tr>\n",
       "  </thead>\n",
       "  <tbody>\n",
       "    <tr>\n",
       "      <th>0</th>\n",
       "      <td>1.0</td>\n",
       "      <td>3.603541e+10</td>\n",
       "      <td>-4.405142e+08</td>\n",
       "      <td>0.644701</td>\n",
       "      <td>15.087834</td>\n",
       "      <td>-4.257605</td>\n",
       "    </tr>\n",
       "    <tr>\n",
       "      <th>1</th>\n",
       "      <td>1.0</td>\n",
       "      <td>3.652786e+10</td>\n",
       "      <td>-2.109333e+08</td>\n",
       "      <td>0.635272</td>\n",
       "      <td>21.709246</td>\n",
       "      <td>-6.289568</td>\n",
       "    </tr>\n",
       "    <tr>\n",
       "      <th>2</th>\n",
       "      <td>1.0</td>\n",
       "      <td>6.420179e+10</td>\n",
       "      <td>7.388700e+08</td>\n",
       "      <td>0.546781</td>\n",
       "      <td>9.972262</td>\n",
       "      <td>-3.547418</td>\n",
       "    </tr>\n",
       "    <tr>\n",
       "      <th>3</th>\n",
       "      <td>1.0</td>\n",
       "      <td>6.107649e+10</td>\n",
       "      <td>-5.423273e+08</td>\n",
       "      <td>0.617708</td>\n",
       "      <td>20.812823</td>\n",
       "      <td>-8.055419</td>\n",
       "    </tr>\n",
       "    <tr>\n",
       "      <th>4</th>\n",
       "      <td>1.0</td>\n",
       "      <td>5.139746e+10</td>\n",
       "      <td>-4.306113e+08</td>\n",
       "      <td>0.673461</td>\n",
       "      <td>7.697747</td>\n",
       "      <td>4.491262</td>\n",
       "    </tr>\n",
       "  </tbody>\n",
       "</table>\n",
       "</div>"
      ],
      "text/plain": [
       "     0             1             2         3          4         5\n",
       "0  1.0  3.603541e+10 -4.405142e+08  0.644701  15.087834 -4.257605\n",
       "1  1.0  3.652786e+10 -2.109333e+08  0.635272  21.709246 -6.289568\n",
       "2  1.0  6.420179e+10  7.388700e+08  0.546781   9.972262 -3.547418\n",
       "3  1.0  6.107649e+10 -5.423273e+08  0.617708  20.812823 -8.055419\n",
       "4  1.0  5.139746e+10 -4.306113e+08  0.673461   7.697747  4.491262"
      ]
     },
     "execution_count": 251,
     "metadata": {},
     "output_type": "execute_result"
    }
   ],
   "source": [
    "# Add column of ones assocaited with b0 constant because statsmodel doesnt take into cognizance of b0 constant\n",
    "import statsmodels.formula.api as sm\n",
    "#X = np.append(arr = X, values = np.ones((50, 1)).astype(int), axis = 1)\n",
    "# reverse above to add new column of ones to the left of X rather than to the right\n",
    "X = np.append(arr = np.ones((39, 1)).astype(int), values = X, axis = 1)\n",
    "\n",
    "pd.DataFrame(X).head()"
   ]
  },
  {
   "cell_type": "code",
   "execution_count": 252,
   "metadata": {},
   "outputs": [],
   "source": [
    "# step 1 select significant level (e.g SL = 0.05)\n",
    "# step 2 fit full model with all possible predictors\n",
    "X_opt = X[:, [0,1,2,3,4]]\n",
    "regressor_OLS = sm.OLS(endog = y, exog = X_opt).fit()"
   ]
  },
  {
   "cell_type": "code",
   "execution_count": 253,
   "metadata": {},
   "outputs": [
    {
     "data": {
      "text/html": [
       "<table class=\"simpletable\">\n",
       "<caption>OLS Regression Results</caption>\n",
       "<tr>\n",
       "  <th>Dep. Variable:</th>            <td>y</td>        <th>  R-squared:         </th> <td>   0.174</td>\n",
       "</tr>\n",
       "<tr>\n",
       "  <th>Model:</th>                   <td>OLS</td>       <th>  Adj. R-squared:    </th> <td>   0.077</td>\n",
       "</tr>\n",
       "<tr>\n",
       "  <th>Method:</th>             <td>Least Squares</td>  <th>  F-statistic:       </th> <td>   1.791</td>\n",
       "</tr>\n",
       "<tr>\n",
       "  <th>Date:</th>             <td>Sat, 02 Jun 2018</td> <th>  Prob (F-statistic):</th>  <td> 0.153</td> \n",
       "</tr>\n",
       "<tr>\n",
       "  <th>Time:</th>                 <td>16:50:23</td>     <th>  Log-Likelihood:    </th> <td> -129.53</td>\n",
       "</tr>\n",
       "<tr>\n",
       "  <th>No. Observations:</th>      <td>    39</td>      <th>  AIC:               </th> <td>   269.1</td>\n",
       "</tr>\n",
       "<tr>\n",
       "  <th>Df Residuals:</th>          <td>    34</td>      <th>  BIC:               </th> <td>   277.4</td>\n",
       "</tr>\n",
       "<tr>\n",
       "  <th>Df Model:</th>              <td>     4</td>      <th>                     </th>     <td> </td>   \n",
       "</tr>\n",
       "<tr>\n",
       "  <th>Covariance Type:</th>      <td>nonrobust</td>    <th>                     </th>     <td> </td>   \n",
       "</tr>\n",
       "</table>\n",
       "<table class=\"simpletable\">\n",
       "<tr>\n",
       "    <td></td>       <th>coef</th>     <th>std err</th>      <th>t</th>      <th>P>|t|</th>  <th>[0.025</th>    <th>0.975]</th>  \n",
       "</tr>\n",
       "<tr>\n",
       "  <th>const</th> <td>    0.5084</td> <td>    2.465</td> <td>    0.206</td> <td> 0.838</td> <td>   -4.500</td> <td>    5.517</td>\n",
       "</tr>\n",
       "<tr>\n",
       "  <th>x1</th>    <td>-1.625e-11</td> <td> 1.15e-11</td> <td>   -1.413</td> <td> 0.167</td> <td>-3.96e-11</td> <td> 7.12e-12</td>\n",
       "</tr>\n",
       "<tr>\n",
       "  <th>x2</th>    <td>-2.982e-10</td> <td> 7.49e-10</td> <td>   -0.398</td> <td> 0.693</td> <td>-1.82e-09</td> <td> 1.22e-09</td>\n",
       "</tr>\n",
       "<tr>\n",
       "  <th>x3</th>    <td>    0.0594</td> <td>    0.030</td> <td>    2.000</td> <td> 0.054</td> <td>   -0.001</td> <td>    0.120</td>\n",
       "</tr>\n",
       "<tr>\n",
       "  <th>x4</th>    <td>    0.0077</td> <td>    0.073</td> <td>    0.105</td> <td> 0.917</td> <td>   -0.141</td> <td>    0.156</td>\n",
       "</tr>\n",
       "</table>\n",
       "<table class=\"simpletable\">\n",
       "<tr>\n",
       "  <th>Omnibus:</th>       <td>19.641</td> <th>  Durbin-Watson:     </th> <td>   2.041</td>\n",
       "</tr>\n",
       "<tr>\n",
       "  <th>Prob(Omnibus):</th> <td> 0.000</td> <th>  Jarque-Bera (JB):  </th> <td>  38.526</td>\n",
       "</tr>\n",
       "<tr>\n",
       "  <th>Skew:</th>          <td> 1.212</td> <th>  Prob(JB):          </th> <td>4.31e-09</td>\n",
       "</tr>\n",
       "<tr>\n",
       "  <th>Kurtosis:</th>      <td> 7.223</td> <th>  Cond. No.          </th> <td>4.46e+11</td>\n",
       "</tr>\n",
       "</table>"
      ],
      "text/plain": [
       "<class 'statsmodels.iolib.summary.Summary'>\n",
       "\"\"\"\n",
       "                            OLS Regression Results                            \n",
       "==============================================================================\n",
       "Dep. Variable:                      y   R-squared:                       0.174\n",
       "Model:                            OLS   Adj. R-squared:                  0.077\n",
       "Method:                 Least Squares   F-statistic:                     1.791\n",
       "Date:                Sat, 02 Jun 2018   Prob (F-statistic):              0.153\n",
       "Time:                        16:50:23   Log-Likelihood:                -129.53\n",
       "No. Observations:                  39   AIC:                             269.1\n",
       "Df Residuals:                      34   BIC:                             277.4\n",
       "Df Model:                           4                                         \n",
       "Covariance Type:            nonrobust                                         \n",
       "==============================================================================\n",
       "                 coef    std err          t      P>|t|      [0.025      0.975]\n",
       "------------------------------------------------------------------------------\n",
       "const          0.5084      2.465      0.206      0.838      -4.500       5.517\n",
       "x1         -1.625e-11   1.15e-11     -1.413      0.167   -3.96e-11    7.12e-12\n",
       "x2         -2.982e-10   7.49e-10     -0.398      0.693   -1.82e-09    1.22e-09\n",
       "x3             0.0594      0.030      2.000      0.054      -0.001       0.120\n",
       "x4             0.0077      0.073      0.105      0.917      -0.141       0.156\n",
       "==============================================================================\n",
       "Omnibus:                       19.641   Durbin-Watson:                   2.041\n",
       "Prob(Omnibus):                  0.000   Jarque-Bera (JB):               38.526\n",
       "Skew:                           1.212   Prob(JB):                     4.31e-09\n",
       "Kurtosis:                       7.223   Cond. No.                     4.46e+11\n",
       "==============================================================================\n",
       "\n",
       "Warnings:\n",
       "[1] Standard Errors assume that the covariance matrix of the errors is correctly specified.\n",
       "[2] The condition number is large, 4.46e+11. This might indicate that there are\n",
       "strong multicollinearity or other numerical problems.\n",
       "\"\"\""
      ]
     },
     "execution_count": 253,
     "metadata": {},
     "output_type": "execute_result"
    }
   ],
   "source": [
    "# step 3 consider the predictor with the highest P-value; \n",
    "# if P>SL,go to step 4, otherwise the model is ready\n",
    "regressor_OLS.summary()"
   ]
  },
  {
   "cell_type": "code",
   "execution_count": 254,
   "metadata": {},
   "outputs": [],
   "source": [
    "# step 1 select significant level (e.g SL = 0.05)\n",
    "# step 2 fit full model with all possible predictors\n",
    "X_opt = X[:, [0,1,2,3]]\n",
    "regressor_OLS = sm.OLS(endog = y, exog = X_opt).fit()"
   ]
  },
  {
   "cell_type": "code",
   "execution_count": 255,
   "metadata": {},
   "outputs": [
    {
     "data": {
      "text/html": [
       "<table class=\"simpletable\">\n",
       "<caption>OLS Regression Results</caption>\n",
       "<tr>\n",
       "  <th>Dep. Variable:</th>            <td>y</td>        <th>  R-squared:         </th> <td>   0.174</td>\n",
       "</tr>\n",
       "<tr>\n",
       "  <th>Model:</th>                   <td>OLS</td>       <th>  Adj. R-squared:    </th> <td>   0.103</td>\n",
       "</tr>\n",
       "<tr>\n",
       "  <th>Method:</th>             <td>Least Squares</td>  <th>  F-statistic:       </th> <td>   2.454</td>\n",
       "</tr>\n",
       "<tr>\n",
       "  <th>Date:</th>             <td>Sat, 02 Jun 2018</td> <th>  Prob (F-statistic):</th>  <td>0.0795</td> \n",
       "</tr>\n",
       "<tr>\n",
       "  <th>Time:</th>                 <td>16:50:23</td>     <th>  Log-Likelihood:    </th> <td> -129.53</td>\n",
       "</tr>\n",
       "<tr>\n",
       "  <th>No. Observations:</th>      <td>    39</td>      <th>  AIC:               </th> <td>   267.1</td>\n",
       "</tr>\n",
       "<tr>\n",
       "  <th>Df Residuals:</th>          <td>    35</td>      <th>  BIC:               </th> <td>   273.7</td>\n",
       "</tr>\n",
       "<tr>\n",
       "  <th>Df Model:</th>              <td>     3</td>      <th>                     </th>     <td> </td>   \n",
       "</tr>\n",
       "<tr>\n",
       "  <th>Covariance Type:</th>      <td>nonrobust</td>    <th>                     </th>     <td> </td>   \n",
       "</tr>\n",
       "</table>\n",
       "<table class=\"simpletable\">\n",
       "<tr>\n",
       "    <td></td>       <th>coef</th>     <th>std err</th>      <th>t</th>      <th>P>|t|</th>  <th>[0.025</th>    <th>0.975]</th>  \n",
       "</tr>\n",
       "<tr>\n",
       "  <th>const</th> <td>    0.7000</td> <td>    1.635</td> <td>    0.428</td> <td> 0.671</td> <td>   -2.618</td> <td>    4.019</td>\n",
       "</tr>\n",
       "<tr>\n",
       "  <th>x1</th>    <td>-1.635e-11</td> <td> 1.13e-11</td> <td>   -1.447</td> <td> 0.157</td> <td>-3.93e-11</td> <td> 6.58e-12</td>\n",
       "</tr>\n",
       "<tr>\n",
       "  <th>x2</th>    <td>-3.025e-10</td> <td> 7.38e-10</td> <td>   -0.410</td> <td> 0.684</td> <td> -1.8e-09</td> <td> 1.19e-09</td>\n",
       "</tr>\n",
       "<tr>\n",
       "  <th>x3</th>    <td>    0.0588</td> <td>    0.029</td> <td>    2.042</td> <td> 0.049</td> <td>    0.000</td> <td>    0.117</td>\n",
       "</tr>\n",
       "</table>\n",
       "<table class=\"simpletable\">\n",
       "<tr>\n",
       "  <th>Omnibus:</th>       <td>19.510</td> <th>  Durbin-Watson:     </th> <td>   2.035</td>\n",
       "</tr>\n",
       "<tr>\n",
       "  <th>Prob(Omnibus):</th> <td> 0.000</td> <th>  Jarque-Bera (JB):  </th> <td>  38.261</td>\n",
       "</tr>\n",
       "<tr>\n",
       "  <th>Skew:</th>          <td> 1.202</td> <th>  Prob(JB):          </th> <td>4.92e-09</td>\n",
       "</tr>\n",
       "<tr>\n",
       "  <th>Kurtosis:</th>      <td> 7.215</td> <th>  Cond. No.          </th> <td>3.00e+11</td>\n",
       "</tr>\n",
       "</table>"
      ],
      "text/plain": [
       "<class 'statsmodels.iolib.summary.Summary'>\n",
       "\"\"\"\n",
       "                            OLS Regression Results                            \n",
       "==============================================================================\n",
       "Dep. Variable:                      y   R-squared:                       0.174\n",
       "Model:                            OLS   Adj. R-squared:                  0.103\n",
       "Method:                 Least Squares   F-statistic:                     2.454\n",
       "Date:                Sat, 02 Jun 2018   Prob (F-statistic):             0.0795\n",
       "Time:                        16:50:23   Log-Likelihood:                -129.53\n",
       "No. Observations:                  39   AIC:                             267.1\n",
       "Df Residuals:                      35   BIC:                             273.7\n",
       "Df Model:                           3                                         \n",
       "Covariance Type:            nonrobust                                         \n",
       "==============================================================================\n",
       "                 coef    std err          t      P>|t|      [0.025      0.975]\n",
       "------------------------------------------------------------------------------\n",
       "const          0.7000      1.635      0.428      0.671      -2.618       4.019\n",
       "x1         -1.635e-11   1.13e-11     -1.447      0.157   -3.93e-11    6.58e-12\n",
       "x2         -3.025e-10   7.38e-10     -0.410      0.684    -1.8e-09    1.19e-09\n",
       "x3             0.0588      0.029      2.042      0.049       0.000       0.117\n",
       "==============================================================================\n",
       "Omnibus:                       19.510   Durbin-Watson:                   2.035\n",
       "Prob(Omnibus):                  0.000   Jarque-Bera (JB):               38.261\n",
       "Skew:                           1.202   Prob(JB):                     4.92e-09\n",
       "Kurtosis:                       7.215   Cond. No.                     3.00e+11\n",
       "==============================================================================\n",
       "\n",
       "Warnings:\n",
       "[1] Standard Errors assume that the covariance matrix of the errors is correctly specified.\n",
       "[2] The condition number is large,  3e+11. This might indicate that there are\n",
       "strong multicollinearity or other numerical problems.\n",
       "\"\"\""
      ]
     },
     "execution_count": 255,
     "metadata": {},
     "output_type": "execute_result"
    }
   ],
   "source": [
    "# step 3 consider the predictor with the highest P-value; \n",
    "# if P>SL,go to step 4, otherwise the model is ready\n",
    "regressor_OLS.summary()"
   ]
  },
  {
   "cell_type": "code",
   "execution_count": 256,
   "metadata": {},
   "outputs": [],
   "source": [
    "# step 1 select significant level (e.g SL = 0.05)\n",
    "# step 2 fit full model with all possible predictors\n",
    "X_opt = X[:, [0,1,3]]\n",
    "regressor_OLS = sm.OLS(endog = y, exog = X_opt).fit()"
   ]
  },
  {
   "cell_type": "code",
   "execution_count": 257,
   "metadata": {},
   "outputs": [
    {
     "data": {
      "text/html": [
       "<table class=\"simpletable\">\n",
       "<caption>OLS Regression Results</caption>\n",
       "<tr>\n",
       "  <th>Dep. Variable:</th>            <td>y</td>        <th>  R-squared:         </th> <td>   0.170</td>\n",
       "</tr>\n",
       "<tr>\n",
       "  <th>Model:</th>                   <td>OLS</td>       <th>  Adj. R-squared:    </th> <td>   0.124</td>\n",
       "</tr>\n",
       "<tr>\n",
       "  <th>Method:</th>             <td>Least Squares</td>  <th>  F-statistic:       </th> <td>   3.682</td>\n",
       "</tr>\n",
       "<tr>\n",
       "  <th>Date:</th>             <td>Sat, 02 Jun 2018</td> <th>  Prob (F-statistic):</th>  <td>0.0351</td> \n",
       "</tr>\n",
       "<tr>\n",
       "  <th>Time:</th>                 <td>16:50:23</td>     <th>  Log-Likelihood:    </th> <td> -129.63</td>\n",
       "</tr>\n",
       "<tr>\n",
       "  <th>No. Observations:</th>      <td>    39</td>      <th>  AIC:               </th> <td>   265.3</td>\n",
       "</tr>\n",
       "<tr>\n",
       "  <th>Df Residuals:</th>          <td>    36</td>      <th>  BIC:               </th> <td>   270.2</td>\n",
       "</tr>\n",
       "<tr>\n",
       "  <th>Df Model:</th>              <td>     2</td>      <th>                     </th>     <td> </td>   \n",
       "</tr>\n",
       "<tr>\n",
       "  <th>Covariance Type:</th>      <td>nonrobust</td>    <th>                     </th>     <td> </td>   \n",
       "</tr>\n",
       "</table>\n",
       "<table class=\"simpletable\">\n",
       "<tr>\n",
       "    <td></td>       <th>coef</th>     <th>std err</th>      <th>t</th>      <th>P>|t|</th>  <th>[0.025</th>    <th>0.975]</th>  \n",
       "</tr>\n",
       "<tr>\n",
       "  <th>const</th> <td>    0.8424</td> <td>    1.579</td> <td>    0.534</td> <td> 0.597</td> <td>   -2.360</td> <td>    4.044</td>\n",
       "</tr>\n",
       "<tr>\n",
       "  <th>x1</th>    <td> -1.56e-11</td> <td>  1.1e-11</td> <td>   -1.416</td> <td> 0.165</td> <td>-3.79e-11</td> <td> 6.74e-12</td>\n",
       "</tr>\n",
       "<tr>\n",
       "  <th>x2</th>    <td>    0.0643</td> <td>    0.025</td> <td>    2.552</td> <td> 0.015</td> <td>    0.013</td> <td>    0.115</td>\n",
       "</tr>\n",
       "</table>\n",
       "<table class=\"simpletable\">\n",
       "<tr>\n",
       "  <th>Omnibus:</th>       <td>17.518</td> <th>  Durbin-Watson:     </th> <td>   1.972</td>\n",
       "</tr>\n",
       "<tr>\n",
       "  <th>Prob(Omnibus):</th> <td> 0.000</td> <th>  Jarque-Bera (JB):  </th> <td>  32.412</td>\n",
       "</tr>\n",
       "<tr>\n",
       "  <th>Skew:</th>          <td> 1.084</td> <th>  Prob(JB):          </th> <td>9.16e-08</td>\n",
       "</tr>\n",
       "<tr>\n",
       "  <th>Kurtosis:</th>      <td> 6.905</td> <th>  Cond. No.          </th> <td>2.93e+11</td>\n",
       "</tr>\n",
       "</table>"
      ],
      "text/plain": [
       "<class 'statsmodels.iolib.summary.Summary'>\n",
       "\"\"\"\n",
       "                            OLS Regression Results                            \n",
       "==============================================================================\n",
       "Dep. Variable:                      y   R-squared:                       0.170\n",
       "Model:                            OLS   Adj. R-squared:                  0.124\n",
       "Method:                 Least Squares   F-statistic:                     3.682\n",
       "Date:                Sat, 02 Jun 2018   Prob (F-statistic):             0.0351\n",
       "Time:                        16:50:23   Log-Likelihood:                -129.63\n",
       "No. Observations:                  39   AIC:                             265.3\n",
       "Df Residuals:                      36   BIC:                             270.2\n",
       "Df Model:                           2                                         \n",
       "Covariance Type:            nonrobust                                         \n",
       "==============================================================================\n",
       "                 coef    std err          t      P>|t|      [0.025      0.975]\n",
       "------------------------------------------------------------------------------\n",
       "const          0.8424      1.579      0.534      0.597      -2.360       4.044\n",
       "x1          -1.56e-11    1.1e-11     -1.416      0.165   -3.79e-11    6.74e-12\n",
       "x2             0.0643      0.025      2.552      0.015       0.013       0.115\n",
       "==============================================================================\n",
       "Omnibus:                       17.518   Durbin-Watson:                   1.972\n",
       "Prob(Omnibus):                  0.000   Jarque-Bera (JB):               32.412\n",
       "Skew:                           1.084   Prob(JB):                     9.16e-08\n",
       "Kurtosis:                       6.905   Cond. No.                     2.93e+11\n",
       "==============================================================================\n",
       "\n",
       "Warnings:\n",
       "[1] Standard Errors assume that the covariance matrix of the errors is correctly specified.\n",
       "[2] The condition number is large, 2.93e+11. This might indicate that there are\n",
       "strong multicollinearity or other numerical problems.\n",
       "\"\"\""
      ]
     },
     "execution_count": 257,
     "metadata": {},
     "output_type": "execute_result"
    }
   ],
   "source": [
    "# step 3 consider the predictor with the highest P-value; \n",
    "# if P>SL,go to step 4, otherwise the model is ready\n",
    "regressor_OLS.summary()"
   ]
  },
  {
   "cell_type": "code",
   "execution_count": 258,
   "metadata": {},
   "outputs": [],
   "source": [
    "# step 1 select significant level (e.g SL = 0.05)\n",
    "# step 2 fit full model with all possible predictors\n",
    "X_opt = X[:, [0,3]]\n",
    "regressor_OLS = sm.OLS(endog = y, exog = X_opt).fit()"
   ]
  },
  {
   "cell_type": "code",
   "execution_count": 259,
   "metadata": {},
   "outputs": [
    {
     "data": {
      "text/html": [
       "<table class=\"simpletable\">\n",
       "<caption>OLS Regression Results</caption>\n",
       "<tr>\n",
       "  <th>Dep. Variable:</th>            <td>y</td>        <th>  R-squared:         </th> <td>   0.124</td>\n",
       "</tr>\n",
       "<tr>\n",
       "  <th>Model:</th>                   <td>OLS</td>       <th>  Adj. R-squared:    </th> <td>   0.100</td>\n",
       "</tr>\n",
       "<tr>\n",
       "  <th>Method:</th>             <td>Least Squares</td>  <th>  F-statistic:       </th> <td>   5.217</td>\n",
       "</tr>\n",
       "<tr>\n",
       "  <th>Date:</th>             <td>Sat, 02 Jun 2018</td> <th>  Prob (F-statistic):</th>  <td>0.0282</td> \n",
       "</tr>\n",
       "<tr>\n",
       "  <th>Time:</th>                 <td>16:50:24</td>     <th>  Log-Likelihood:    </th> <td> -130.68</td>\n",
       "</tr>\n",
       "<tr>\n",
       "  <th>No. Observations:</th>      <td>    39</td>      <th>  AIC:               </th> <td>   265.4</td>\n",
       "</tr>\n",
       "<tr>\n",
       "  <th>Df Residuals:</th>          <td>    37</td>      <th>  BIC:               </th> <td>   268.7</td>\n",
       "</tr>\n",
       "<tr>\n",
       "  <th>Df Model:</th>              <td>     1</td>      <th>                     </th>     <td> </td>   \n",
       "</tr>\n",
       "<tr>\n",
       "  <th>Covariance Type:</th>      <td>nonrobust</td>    <th>                     </th>     <td> </td>   \n",
       "</tr>\n",
       "</table>\n",
       "<table class=\"simpletable\">\n",
       "<tr>\n",
       "    <td></td>       <th>coef</th>     <th>std err</th>      <th>t</th>      <th>P>|t|</th>  <th>[0.025</th>    <th>0.975]</th>  \n",
       "</tr>\n",
       "<tr>\n",
       "  <th>const</th> <td>    0.7925</td> <td>    1.600</td> <td>    0.495</td> <td> 0.623</td> <td>   -2.449</td> <td>    4.034</td>\n",
       "</tr>\n",
       "<tr>\n",
       "  <th>x1</th>    <td>    0.0365</td> <td>    0.016</td> <td>    2.284</td> <td> 0.028</td> <td>    0.004</td> <td>    0.069</td>\n",
       "</tr>\n",
       "</table>\n",
       "<table class=\"simpletable\">\n",
       "<tr>\n",
       "  <th>Omnibus:</th>       <td>23.552</td> <th>  Durbin-Watson:     </th> <td>   1.804</td>\n",
       "</tr>\n",
       "<tr>\n",
       "  <th>Prob(Omnibus):</th> <td> 0.000</td> <th>  Jarque-Bera (JB):  </th> <td>  58.132</td>\n",
       "</tr>\n",
       "<tr>\n",
       "  <th>Skew:</th>          <td> 1.363</td> <th>  Prob(JB):          </th> <td>2.38e-13</td>\n",
       "</tr>\n",
       "<tr>\n",
       "  <th>Kurtosis:</th>      <td> 8.324</td> <th>  Cond. No.          </th> <td>    141.</td>\n",
       "</tr>\n",
       "</table>"
      ],
      "text/plain": [
       "<class 'statsmodels.iolib.summary.Summary'>\n",
       "\"\"\"\n",
       "                            OLS Regression Results                            \n",
       "==============================================================================\n",
       "Dep. Variable:                      y   R-squared:                       0.124\n",
       "Model:                            OLS   Adj. R-squared:                  0.100\n",
       "Method:                 Least Squares   F-statistic:                     5.217\n",
       "Date:                Sat, 02 Jun 2018   Prob (F-statistic):             0.0282\n",
       "Time:                        16:50:24   Log-Likelihood:                -130.68\n",
       "No. Observations:                  39   AIC:                             265.4\n",
       "Df Residuals:                      37   BIC:                             268.7\n",
       "Df Model:                           1                                         \n",
       "Covariance Type:            nonrobust                                         \n",
       "==============================================================================\n",
       "                 coef    std err          t      P>|t|      [0.025      0.975]\n",
       "------------------------------------------------------------------------------\n",
       "const          0.7925      1.600      0.495      0.623      -2.449       4.034\n",
       "x1             0.0365      0.016      2.284      0.028       0.004       0.069\n",
       "==============================================================================\n",
       "Omnibus:                       23.552   Durbin-Watson:                   1.804\n",
       "Prob(Omnibus):                  0.000   Jarque-Bera (JB):               58.132\n",
       "Skew:                           1.363   Prob(JB):                     2.38e-13\n",
       "Kurtosis:                       8.324   Cond. No.                         141.\n",
       "==============================================================================\n",
       "\n",
       "Warnings:\n",
       "[1] Standard Errors assume that the covariance matrix of the errors is correctly specified.\n",
       "\"\"\""
      ]
     },
     "execution_count": 259,
     "metadata": {},
     "output_type": "execute_result"
    }
   ],
   "source": [
    "# step 3 consider the predictor with the highest P-value; \n",
    "# if P>SL,go to step 4, otherwise the model is ready\n",
    "regressor_OLS.summary()"
   ]
  },
  {
   "cell_type": "code",
   "execution_count": null,
   "metadata": {},
   "outputs": [],
   "source": []
  }
 ],
 "metadata": {
  "kernelspec": {
   "display_name": "Python 3",
   "language": "python",
   "name": "python3"
  },
  "language_info": {
   "codemirror_mode": {
    "name": "ipython",
    "version": 3
   },
   "file_extension": ".py",
   "mimetype": "text/x-python",
   "name": "python",
   "nbconvert_exporter": "python",
   "pygments_lexer": "ipython3",
   "version": "3.6.4"
  }
 },
 "nbformat": 4,
 "nbformat_minor": 2
}
